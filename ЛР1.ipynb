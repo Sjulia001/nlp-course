{
  "cells": [
    {
      "cell_type": "code",
      "execution_count": 5,
      "metadata": {
        "id": "UbILvn5DN_6O"
      },
      "outputs": [],
      "source": [
        "import json\n",
        "import random\n",
        "import re\n",
        "# Имортируем модуль regex, чтобы можно было использовать регулярное выражение для поиска эмодзи \"\\p{Emoji}\"\n",
        "import regex"
      ]
    },
    {
      "cell_type": "code",
      "execution_count": 6,
      "metadata": {
        "colab": {
          "base_uri": "https://localhost:8080/"
        },
        "id": "cTxXkCn-IvVU",
        "outputId": "c6de80a3-5606-4f6b-bb34-412bfe6395a3"
      },
      "outputs": [
        {
          "output_type": "stream",
          "name": "stdout",
          "text": [
            "dict_keys(['name', 'type', 'id', 'messages'])\n",
            "dict_keys(['id', 'type', 'date', 'date_unixtime', 'actor', 'actor_id', 'action', 'title', 'text', 'text_entities'])\n"
          ]
        }
      ],
      "source": [
        "# Загрузка данных\n",
        "with open(\"result.json\", \"r\", encoding=\"utf-8\") as f:\n",
        "    data = json.load(f)\n",
        "print(data.keys())\n",
        "print(data['messages'][0].keys())"
      ]
    },
    {
      "cell_type": "code",
      "execution_count": 8,
      "metadata": {
        "colab": {
          "base_uri": "https://localhost:8080/"
        },
        "id": "sEPTcr7PgMm5",
        "outputId": "ef62cfa1-9e8f-4c53-f57b-cc9c27d1990a"
      },
      "outputs": [
        {
          "output_type": "stream",
          "name": "stdout",
          "text": [
            "---------------------------\n",
            " , Германия.\n",
            "Этот причудливый ландшафт образовался ближе к концу последнего ледникового периода, окол\n",
            "---------------------------\n",
            " Горный фазан-павлин, также известный как Зеркальный фазан или фазан-павлин Ротшильда, является видом\n",
            "---------------------------\n",
            " подписчики ждут посты\n",
            "---------------------------\n",
            " \n",
            "---------------------------\n",
            " Ну вот беседа заходите кто хочет \n",
            "\n",
            "\n",
            "---------------------------\n",
            " Абрикосовая долина Йили, Китай.\n",
            "Ежегодно покатые склоны Синьцзян покрываются пышной пеной розовато-б\n",
            "---------------------------\n",
            "  — это разновидность тропического циклона, которая типична для северо-запада Тихого океана. Тайфунам\n",
            "---------------------------\n",
            "  — один из самых яркоокрашенных видов ласточек, населяющий полуоткрытые районы в западной части Севе\n",
            "---------------------------\n",
            "  из семейства гвоздичных) – остров Локвуд, который находится в Канадском Арктическом архипелаге – 83\n",
            "---------------------------\n",
            "  — это крупная бабочка семейства бражников, распространённая в Европе, Азии и Африке. Её легко узнат\n"
          ]
        }
      ],
      "source": [
        "texts=[]\n",
        "for m in data['messages']:\n",
        "  if isinstance(m['text'],list):\n",
        "    for i in m[\"text\"]:\n",
        "      if isinstance(i,str):\n",
        "        texts.append(i)\n",
        "  elif not m[\"text\"] == \"\":\n",
        "    texts.append(m[\"text\"])\n",
        "\n",
        "# Результат вывести случайные 10 текстов первые 100 символов\n",
        "sample_texts=random.sample(texts, 10)\n",
        "for j in sample_texts:\n",
        "  print(\"---------------------------\\n\",j[:100])"
      ]
    },
    {
      "cell_type": "markdown",
      "metadata": {
        "id": "kQc43nYlz2OA"
      },
      "source": [
        "1. Улучшить очистку данных\n",
        "\n",
        "  - добавить удаление знаков препинания\n",
        "  - добавить удаление слов, написанных латиницей\n"
      ]
    },
    {
      "cell_type": "code",
      "execution_count": 10,
      "metadata": {
        "id": "yRqyahkGizf2",
        "colab": {
          "base_uri": "https://localhost:8080/"
        },
        "outputId": "d5e1c9c6-52e3-4ff2-e152-41890e98fc57"
      },
      "outputs": [
        {
          "output_type": "stream",
          "name": "stdout",
          "text": [
            "['  Германия  Этот причудливый ландшафт образовался ближе к концу последнего ледникового периода  около        лет назад  в результате одного или нескольких обвалов горных пород ', 'Горный фазан павлин  также известный как Зеркальный фазан или фазан павлин Ротшильда  является видом фазанов  эндемичным для горных лесов центрального Малайского полуострова  Это представитель семейства павлино фазановых  которое состоит из группы фазанов  обладающих заметными круглыми пятнами в форме глаз на оперении ', 'подписчики ждут посты', '', 'Ну вот беседа заходите кто хочет   ', 'Абрикосовая долина Йили  Китай  Ежегодно покатые склоны Синьцзян покрываются пышной пеной розовато белого цветения абрикосовых деревьев  появление цветов знаменует начало сезона урожая фруктов ', '   это разновидность тропического циклона  которая типична для северо запада Тихого океана  Тайфунам присваивают имена  чтобы упростить их идентификацию при прогнозировании погоды и предупреждении об опасности   Тайфуны сопровождаются сильными ветрами и проливными дождями  которые могут вызывать наводнения и оползни  Они представляют опасность для прибрежных районов и судоходства ', '   один из самых яркоокрашенных видов ласточек  населяющий полуоткрытые районы в западной части Северной Америки от Аляски до Мексики  Зимуют в центральной и северной частях Южной Америки  Эти птицы гнездятся в полостях деревьев или расщелинах скал  иногда образуют небольшие колонии  Питаются насекомыми  включая комаров  бабочек и поденок  которых ловят на лету ', ' из семейства гвоздичных  – остров Локвуд  который находится в Канадском Арктическом архипелаге –   о    с ш  Дальше на север встречаются только некоторые мхи и лишайники ', '   это крупная бабочка семейства бражников  распространённая в Европе  Азии и Африке  Её легко узнать по характерному рисунку на спинке  напоминающему человеческий череп  В некоторых странах бабочка  Мёртвая голова  считается символом смерти и мистических сил ']\n"
          ]
        }
      ],
      "source": [
        "cleaned_text=[]\n",
        "for i in sample_texts:\n",
        "  #                               знаки препинания            хэштеги и ссылки       латиница  эмодзи  перенос строки\n",
        "  cleaned_text.append(regex.sub(r'[.,…!?;:—\\-\"\\'«»„“()\\[\\]{}]|[@#]\\S+|https?:\\/\\/\\S+|[a-zA-Z]|\\p{Emoji}|[\\n]', \" \", i))\n",
        "print(cleaned_text)\n",
        "#sample_texts_clean=random.sample(cleaned_text, 10)"
      ]
    },
    {
      "cell_type": "code",
      "execution_count": 13,
      "metadata": {
        "colab": {
          "base_uri": "https://localhost:8080/"
        },
        "id": "i-ud2Uk_tNdl",
        "outputId": "34ec5df2-5387-421b-eda6-0fa400dc51a0"
      },
      "outputs": [
        {
          "output_type": "stream",
          "name": "stderr",
          "text": [
            "[nltk_data] Downloading package stopwords to /root/nltk_data...\n",
            "[nltk_data]   Package stopwords is already up-to-date!\n"
          ]
        }
      ],
      "source": [
        "import nltk\n",
        "from nltk.corpus import stopwords\n",
        "nltk.download('stopwords')\n",
        "# Удаление слов, написанных латиницей\n",
        "stop_words = set(stopwords.words(\"english\"))\n",
        "cleaned_words=[]\n",
        "for text in cleaned_text:\n",
        "  for i in text.split():\n",
        "    if not i.lower() in stop_words:\n",
        "      cleaned_words.append(i)\n"
      ]
    },
    {
      "cell_type": "code",
      "execution_count": 14,
      "metadata": {
        "colab": {
          "base_uri": "https://localhost:8080/"
        },
        "id": "-qHhyOaakceN",
        "outputId": "b3622df1-6cb4-47c0-ca8b-72b5fec6abef"
      },
      "outputs": [
        {
          "output_type": "stream",
          "name": "stdout",
          "text": [
            "\u001b[2K     \u001b[90m━━━━━━━━━━━━━━━━━━━━━━━━━━━━━━━━━━━━━━━━\u001b[0m \u001b[32m15.3/15.3 MB\u001b[0m \u001b[31m22.1 MB/s\u001b[0m eta \u001b[36m0:00:00\u001b[0m\n",
            "\u001b[2K   \u001b[90m━━━━━━━━━━━━━━━━━━━━━━━━━━━━━━━━━━━━━━━━\u001b[0m \u001b[32m53.8/53.8 kB\u001b[0m \u001b[31m2.0 MB/s\u001b[0m eta \u001b[36m0:00:00\u001b[0m\n",
            "\u001b[2K   \u001b[90m━━━━━━━━━━━━━━━━━━━━━━━━━━━━━━━━━━━━━━━━\u001b[0m \u001b[32m8.4/8.4 MB\u001b[0m \u001b[31m42.6 MB/s\u001b[0m eta \u001b[36m0:00:00\u001b[0m\n",
            "\u001b[?25h\u001b[38;5;2m✔ Download and installation successful\u001b[0m\n",
            "You can now load the package via spacy.load('ru_core_news_sm')\n",
            "\u001b[38;5;3m⚠ Restart to reload dependencies\u001b[0m\n",
            "If you are in a Jupyter or Colab notebook, you may need to restart Python in\n",
            "order to load all the package's dependencies. You can do this by selecting the\n",
            "'Restart kernel' or 'Restart runtime' option.\n"
          ]
        }
      ],
      "source": [
        "!python3 -m spacy download ru_core_news_sm -q"
      ]
    },
    {
      "cell_type": "markdown",
      "metadata": {
        "id": "GkuXaxoSFs35"
      },
      "source": [
        "2. Лемматизировать текст"
      ]
    },
    {
      "cell_type": "code",
      "execution_count": 15,
      "metadata": {
        "id": "3-1KNRWikpDA"
      },
      "outputs": [],
      "source": [
        "import spacy\n",
        "\n",
        "text = \" \".join(cleaned_text)\n",
        "\n",
        "nlp = spacy.load(\"ru_core_news_sm\")\n",
        "\n",
        "doc = nlp(text )\n",
        "text_tokens=[]\n",
        "# Лемматизация\n",
        "for token in doc:\n",
        "  lemma = token.lemma_\n",
        "  if not token.is_space:\n",
        "    text_tokens.append(lemma)\n",
        "\n"
      ]
    },
    {
      "cell_type": "markdown",
      "metadata": {
        "id": "QGM1QbJeFzEw"
      },
      "source": [
        "3. Создать частотный словарь лемм с помощью Counter"
      ]
    },
    {
      "cell_type": "code",
      "execution_count": 16,
      "metadata": {
        "id": "TEwOTqIZlGii"
      },
      "outputs": [],
      "source": [
        "from collections import Counter\n",
        "import matplotlib.pyplot as plt\n",
        "from itertools import islice\n",
        "\n",
        "# Отсортировать частотность лемм по убыванию, взять первые 20 элементов\n",
        "lemma_counts = dict(islice(dict(Counter(text_tokens).most_common()).items(), 20))\n"
      ]
    },
    {
      "cell_type": "markdown",
      "metadata": {
        "id": "r6vw2CFHF93i"
      },
      "source": [
        "4. Построить гистограмму 20 наиболее частотных лемм"
      ]
    },
    {
      "cell_type": "code",
      "execution_count": 17,
      "metadata": {
        "colab": {
          "base_uri": "https://localhost:8080/",
          "height": 533
        },
        "id": "_4j0eSZ4GDSt",
        "outputId": "22cbc334-fd85-44af-80aa-a2114fccd8a7"
      },
      "outputs": [
        {
          "output_type": "display_data",
          "data": {
            "text/plain": [
              "<Figure size 1000x500 with 1 Axes>"
            ],
            "image/png": "[encoded data removed]"
          },
          "metadata": {}
        }
      ],
      "source": [
        "plt.figure(figsize=(10, 5))\n",
        "plt.bar(lemma_counts.keys(), lemma_counts.values())\n",
        "plt.xticks(rotation=45)\n",
        "plt.title(\"20 наиболее частотных лемм\")\n",
        "plt.show()"
      ]
    },
    {
      "cell_type": "markdown",
      "metadata": {
        "id": "71p6ywezFf3C"
      },
      "source": [
        "5. С помощью random.sample выбрать случайный текст из нашей выборки: если в этом тексте есть именованные сущности (найдите их с помощью spacy), сделать визуализацию разметки с помощью displacy"
      ]
    },
    {
      "cell_type": "code",
      "execution_count": 18,
      "metadata": {
        "colab": {
          "base_uri": "https://localhost:8080/",
          "height": 794
        },
        "id": "6754Ll_QlQ2n",
        "outputId": "c76d6e82-f179-4f9f-db50-a98aaaecc46a"
      },
      "outputs": [
        {
          "output_type": "stream",
          "name": "stderr",
          "text": [
            "/usr/local/lib/python3.11/dist-packages/spacy/displacy/__init__.py:106: UserWarning: [W011] It looks like you're calling displacy.serve from within a Jupyter notebook or a similar environment. This likely means you're already running a local web server, so there's no need to make displaCy start another one. Instead, you should be able to replace displacy.serve with displacy.render to show the visualization.\n",
            "  warnings.warn(Warnings.W011)\n"
          ]
        },
        {
          "output_type": "display_data",
          "data": {
            "text/plain": [
              "<IPython.core.display.HTML object>"
            ],
            "text/html": [
              "<span class=\"tex2jax_ignore\"><!DOCTYPE html>\n",
              "<html lang=\"ru\">\n",
              "    <head>\n",
              "        <title>displaCy</title>\n",
              "    </head>\n",
              "\n",
              "    <body style=\"font-size: 16px; font-family: -apple-system, BlinkMacSystemFont, 'Segoe UI', Helvetica, Arial, sans-serif, 'Apple Color Emoji', 'Segoe UI Emoji', 'Segoe UI Symbol'; padding: 4rem 2rem; direction: ltr\">\n",
              "<figure style=\"margin-bottom: 6rem\">\n",
              "<div class=\"entities\" style=\"line-height: 2.5; direction: ltr\">  \n",
              "<mark class=\"entity\" style=\"background: #ff9561; padding: 0.45em 0.6em; margin: 0 0.25em; line-height: 1; border-radius: 0.35em;\">\n",
              "    Германия\n",
              "    <span style=\"font-size: 0.8em; font-weight: bold; line-height: 1; border-radius: 0.35em; vertical-align: middle; margin-left: 0.5rem\">LOC</span>\n",
              "</mark>\n",
              "  Этот причудливый ландшафт образовался ближе к концу последнего ледникового периода  около        лет назад  в результате одного или нескольких обвалов горных пород  Горный фазан павлин  также известный как Зеркальный фазан или фазан павлин \n",
              "<mark class=\"entity\" style=\"background: #ddd; padding: 0.45em 0.6em; margin: 0 0.25em; line-height: 1; border-radius: 0.35em;\">\n",
              "    Ротшильда\n",
              "    <span style=\"font-size: 0.8em; font-weight: bold; line-height: 1; border-radius: 0.35em; vertical-align: middle; margin-left: 0.5rem\">PER</span>\n",
              "</mark>\n",
              "  является видом фазанов  эндемичным для горных лесов центрального \n",
              "<mark class=\"entity\" style=\"background: #ff9561; padding: 0.45em 0.6em; margin: 0 0.25em; line-height: 1; border-radius: 0.35em;\">\n",
              "    Малайского полуострова\n",
              "    <span style=\"font-size: 0.8em; font-weight: bold; line-height: 1; border-radius: 0.35em; vertical-align: middle; margin-left: 0.5rem\">LOC</span>\n",
              "</mark>\n",
              "  Это представитель семейства павлино фазановых  которое состоит из группы фазанов  обладающих заметными круглыми пятнами в форме глаз на оперении  подписчики ждут посты  Ну вот беседа заходите кто хочет    Абрикосовая долина Йили  \n",
              "<mark class=\"entity\" style=\"background: #ff9561; padding: 0.45em 0.6em; margin: 0 0.25em; line-height: 1; border-radius: 0.35em;\">\n",
              "    Китай\n",
              "    <span style=\"font-size: 0.8em; font-weight: bold; line-height: 1; border-radius: 0.35em; vertical-align: middle; margin-left: 0.5rem\">LOC</span>\n",
              "</mark>\n",
              "  Ежегодно покатые склоны \n",
              "<mark class=\"entity\" style=\"background: #ff9561; padding: 0.45em 0.6em; margin: 0 0.25em; line-height: 1; border-radius: 0.35em;\">\n",
              "    Синьцзян\n",
              "    <span style=\"font-size: 0.8em; font-weight: bold; line-height: 1; border-radius: 0.35em; vertical-align: middle; margin-left: 0.5rem\">LOC</span>\n",
              "</mark>\n",
              " покрываются пышной пеной розовато белого цветения абрикосовых деревьев  появление цветов знаменует начало сезона урожая фруктов     это разновидность тропического циклона  которая типична для северо запада \n",
              "<mark class=\"entity\" style=\"background: #ff9561; padding: 0.45em 0.6em; margin: 0 0.25em; line-height: 1; border-radius: 0.35em;\">\n",
              "    Тихого океана\n",
              "    <span style=\"font-size: 0.8em; font-weight: bold; line-height: 1; border-radius: 0.35em; vertical-align: middle; margin-left: 0.5rem\">LOC</span>\n",
              "</mark>\n",
              "  Тайфунам присваивают имена  чтобы упростить их идентификацию при прогнозировании погоды и предупреждении об опасности   \n",
              "<mark class=\"entity\" style=\"background: #ff9561; padding: 0.45em 0.6em; margin: 0 0.25em; line-height: 1; border-radius: 0.35em;\">\n",
              "    Тайфуны\n",
              "    <span style=\"font-size: 0.8em; font-weight: bold; line-height: 1; border-radius: 0.35em; vertical-align: middle; margin-left: 0.5rem\">LOC</span>\n",
              "</mark>\n",
              " сопровождаются сильными ветрами и проливными дождями  которые могут вызывать наводнения и оползни  Они представляют опасность для прибрежных районов и судоходства     один из самых яркоокрашенных видов ласточек  населяющий полуоткрытые районы в западной части \n",
              "<mark class=\"entity\" style=\"background: #ff9561; padding: 0.45em 0.6em; margin: 0 0.25em; line-height: 1; border-radius: 0.35em;\">\n",
              "    Северной Америки\n",
              "    <span style=\"font-size: 0.8em; font-weight: bold; line-height: 1; border-radius: 0.35em; vertical-align: middle; margin-left: 0.5rem\">LOC</span>\n",
              "</mark>\n",
              " от \n",
              "<mark class=\"entity\" style=\"background: #ff9561; padding: 0.45em 0.6em; margin: 0 0.25em; line-height: 1; border-radius: 0.35em;\">\n",
              "    Аляски\n",
              "    <span style=\"font-size: 0.8em; font-weight: bold; line-height: 1; border-radius: 0.35em; vertical-align: middle; margin-left: 0.5rem\">LOC</span>\n",
              "</mark>\n",
              " до \n",
              "<mark class=\"entity\" style=\"background: #ff9561; padding: 0.45em 0.6em; margin: 0 0.25em; line-height: 1; border-radius: 0.35em;\">\n",
              "    Мексики\n",
              "    <span style=\"font-size: 0.8em; font-weight: bold; line-height: 1; border-radius: 0.35em; vertical-align: middle; margin-left: 0.5rem\">LOC</span>\n",
              "</mark>\n",
              "  \n",
              "<mark class=\"entity\" style=\"background: #ff9561; padding: 0.45em 0.6em; margin: 0 0.25em; line-height: 1; border-radius: 0.35em;\">\n",
              "    Зимуют\n",
              "    <span style=\"font-size: 0.8em; font-weight: bold; line-height: 1; border-radius: 0.35em; vertical-align: middle; margin-left: 0.5rem\">LOC</span>\n",
              "</mark>\n",
              " в центральной и северной частях \n",
              "<mark class=\"entity\" style=\"background: #ff9561; padding: 0.45em 0.6em; margin: 0 0.25em; line-height: 1; border-radius: 0.35em;\">\n",
              "    Южной Америки\n",
              "    <span style=\"font-size: 0.8em; font-weight: bold; line-height: 1; border-radius: 0.35em; vertical-align: middle; margin-left: 0.5rem\">LOC</span>\n",
              "</mark>\n",
              "  Эти птицы гнездятся в полостях деревьев или расщелинах скал  иногда образуют небольшие колонии  Питаются насекомыми  включая комаров  бабочек и поденок  которых ловят на лету   из семейства гвоздичных  – остров \n",
              "<mark class=\"entity\" style=\"background: #ff9561; padding: 0.45em 0.6em; margin: 0 0.25em; line-height: 1; border-radius: 0.35em;\">\n",
              "    Локвуд\n",
              "    <span style=\"font-size: 0.8em; font-weight: bold; line-height: 1; border-radius: 0.35em; vertical-align: middle; margin-left: 0.5rem\">LOC</span>\n",
              "</mark>\n",
              "  который находится в \n",
              "<mark class=\"entity\" style=\"background: #ff9561; padding: 0.45em 0.6em; margin: 0 0.25em; line-height: 1; border-radius: 0.35em;\">\n",
              "    Канадском Арктическом архипелаге\n",
              "    <span style=\"font-size: 0.8em; font-weight: bold; line-height: 1; border-radius: 0.35em; vertical-align: middle; margin-left: 0.5rem\">LOC</span>\n",
              "</mark>\n",
              " –   о    с ш  Дальше на север встречаются только некоторые мхи и лишайники     это крупная бабочка семейства бражников  распространённая в \n",
              "<mark class=\"entity\" style=\"background: #ff9561; padding: 0.45em 0.6em; margin: 0 0.25em; line-height: 1; border-radius: 0.35em;\">\n",
              "    Европе\n",
              "    <span style=\"font-size: 0.8em; font-weight: bold; line-height: 1; border-radius: 0.35em; vertical-align: middle; margin-left: 0.5rem\">LOC</span>\n",
              "</mark>\n",
              "  \n",
              "<mark class=\"entity\" style=\"background: #ff9561; padding: 0.45em 0.6em; margin: 0 0.25em; line-height: 1; border-radius: 0.35em;\">\n",
              "    Азии\n",
              "    <span style=\"font-size: 0.8em; font-weight: bold; line-height: 1; border-radius: 0.35em; vertical-align: middle; margin-left: 0.5rem\">LOC</span>\n",
              "</mark>\n",
              " и \n",
              "<mark class=\"entity\" style=\"background: #ff9561; padding: 0.45em 0.6em; margin: 0 0.25em; line-height: 1; border-radius: 0.35em;\">\n",
              "    Африке\n",
              "    <span style=\"font-size: 0.8em; font-weight: bold; line-height: 1; border-radius: 0.35em; vertical-align: middle; margin-left: 0.5rem\">LOC</span>\n",
              "</mark>\n",
              "  Её легко узнать по характерному рисунку на спинке  напоминающему человеческий череп  В некоторых странах бабочка  Мёртвая голова  считается символом смерти и мистических сил </div>\n",
              "</figure>\n",
              "</body>\n",
              "</html></span>"
            ]
          },
          "metadata": {}
        },
        {
          "output_type": "stream",
          "name": "stdout",
          "text": [
            "\n",
            "Using the 'ent' visualizer\n",
            "Serving on http://0.0.0.0:5000 ...\n",
            "\n",
            "Shutting down server on port 5000.\n"
          ]
        }
      ],
      "source": [
        "entities = []\n",
        "for txt in cleaned_text:\n",
        "    doc = nlp(txt)\n",
        "    # print(doc)\n",
        "    # Добавляем метку сущности в список\n",
        "    entities.extend([ent.label_ for ent in doc.ents])\n",
        "if len(entities)>0:\n",
        "  doc = nlp(\" \".join(cleaned_text))\n",
        "  spacy.displacy.serve(doc, style=\"ent\")\n",
        "else:\n",
        "  print(\"В тексте нет именованных сущностей!\")"
      ]
    }
  ],
  "metadata": {
    "colab": {
      "provenance": []
    },
    "kernelspec": {
      "display_name": "Python 3",
      "name": "python3"
    },
    "language_info": {
      "name": "python"
    }
  },
  "nbformat": 4,
  "nbformat_minor": 0
}